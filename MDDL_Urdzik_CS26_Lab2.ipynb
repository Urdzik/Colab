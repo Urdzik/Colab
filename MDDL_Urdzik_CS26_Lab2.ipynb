{
  "cells": [
    {
      "cell_type": "markdown",
      "metadata": {
        "colab_type": "text",
        "id": "view-in-github"
      },
      "source": [
        "<a href=\"https://colab.research.google.com/github/Urdzik/Colab/blob/main/MDDL_Urdzik_CS26_Lab2.ipynb\" target=\"_parent\"><img src=\"https://colab.research.google.com/assets/colab-badge.svg\" alt=\"Open In Colab\"/></a>"
      ]
    },
    {
      "cell_type": "markdown",
      "metadata": {},
      "source": [
        "# По прикладу на основі схожого датасету yelp_polarity"
      ]
    },
    {
      "cell_type": "code",
      "execution_count": 2,
      "metadata": {
        "colab": {
          "base_uri": "https://localhost:8080/"
        },
        "id": "83HTNYizt4EN",
        "outputId": "7d2795d0-12c3-4523-a17d-55ef1db75004",
        "vscode": {
          "languageId": "powershell"
        }
      },
      "outputs": [],
      "source": [
        "!pip install --quiet datasets"
      ]
    },
    {
      "cell_type": "code",
      "execution_count": null,
      "metadata": {
        "vscode": {
          "languageId": "powershell"
        }
      },
      "outputs": [],
      "source": [
        "!pip install matplotlib"
      ]
    },
    {
      "cell_type": "code",
      "execution_count": 6,
      "metadata": {},
      "outputs": [],
      "source": [
        "import datasets"
      ]
    },
    {
      "cell_type": "code",
      "execution_count": 8,
      "metadata": {},
      "outputs": [
        {
          "name": "stderr",
          "output_type": "stream",
          "text": [
            "Generating train split: 100%|██████████| 560000/560000 [00:00<00:00, 1800260.17 examples/s]\n",
            "Generating test split: 100%|██████████| 38000/38000 [00:00<00:00, 1741687.36 examples/s]\n"
          ]
        }
      ],
      "source": [
        "yelp_polarity  = datasets.load_dataset(\"yelp_polarity\")"
      ]
    },
    {
      "cell_type": "code",
      "execution_count": 9,
      "metadata": {},
      "outputs": [
        {
          "data": {
            "text/plain": [
              "DatasetDict({\n",
              "    train: Dataset({\n",
              "        features: ['text', 'label'],\n",
              "        num_rows: 560000\n",
              "    })\n",
              "    test: Dataset({\n",
              "        features: ['text', 'label'],\n",
              "        num_rows: 38000\n",
              "    })\n",
              "})"
            ]
          },
          "execution_count": 9,
          "metadata": {},
          "output_type": "execute_result"
        }
      ],
      "source": [
        "yelp_polarity"
      ]
    },
    {
      "cell_type": "code",
      "execution_count": 10,
      "metadata": {},
      "outputs": [
        {
          "name": "stdout",
          "output_type": "stream",
          "text": [
            "dict_keys(['train', 'test'])\n"
          ]
        }
      ],
      "source": [
        "print(yelp_polarity.keys())"
      ]
    },
    {
      "cell_type": "code",
      "execution_count": 12,
      "metadata": {},
      "outputs": [],
      "source": [
        "train_data = yelp_polarity['train']\n",
        "# test_data = yelp_polarity['test']"
      ]
    },
    {
      "cell_type": "code",
      "execution_count": 13,
      "metadata": {},
      "outputs": [
        {
          "data": {
            "text/plain": [
              "Dataset({\n",
              "    features: ['text', 'label'],\n",
              "    num_rows: 560000\n",
              "})"
            ]
          },
          "execution_count": 13,
          "metadata": {},
          "output_type": "execute_result"
        }
      ],
      "source": [
        "train_data"
      ]
    },
    {
      "cell_type": "code",
      "execution_count": 14,
      "metadata": {},
      "outputs": [
        {
          "data": {
            "text/plain": [
              "\"In general I do like Shake N' Steak, but this location is a hit or miss location!  You never know what kind of quality or service you're going to find here.  A friend and myself went a few weeks back after a movie and it had to be one of the worst trips there EVER!  You can't entirely blame the waitress since she was the only one there for the entire place...poor scheduling on the manager's part. However, while she can't be accountable for the slooooow service, she was accountable for both orders being incorrect.  The burgers were over cooked and the fries were soggie and the milkshake was runny at best...\\\\n\\\\nBy far my worst visit to Steak n' Shake!\""
            ]
          },
          "execution_count": 14,
          "metadata": {},
          "output_type": "execute_result"
        }
      ],
      "source": [
        "train_data[100][\"text\"]"
      ]
    },
    {
      "cell_type": "code",
      "execution_count": 15,
      "metadata": {},
      "outputs": [],
      "source": [
        "!pip install --quiet spacy"
      ]
    },
    {
      "cell_type": "code",
      "execution_count": 16,
      "metadata": {},
      "outputs": [
        {
          "data": {
            "text/plain": [
              "['I',\n",
              " 'ca',\n",
              " \"n't\",\n",
              " 'find',\n",
              " 'my',\n",
              " '$',\n",
              " '25',\n",
              " '!',\n",
              " 'oleksiy@google.com',\n",
              " 'http://google.com/',\n",
              " '<',\n",
              " 'b',\n",
              " '>']"
            ]
          },
          "execution_count": 16,
          "metadata": {},
          "output_type": "execute_result"
        }
      ],
      "source": [
        "import spacy\n",
        "import tqdm\n",
        "from typing import List, Tuple\n",
        "\n",
        "spacy_nlp = spacy.blank(\"en\")\n",
        "\n",
        "def tokenize_spacy(text: str) -> List[str]:\n",
        "  \"\"\"Tokenize string with SpaCy. \"\"\"\n",
        "\n",
        "  tokens = spacy_nlp.tokenizer(text)\n",
        "  return [str(token) for token in tokens]\n",
        "\n",
        "\n",
        "def tokenize(text: str) -> List[str]:\n",
        "  return tokenize_spacy(text)\n",
        "\n",
        "\n",
        "tokenize_spacy(\"I can't find my $25! oleksiy@google.com http://google.com/ <b>\")"
      ]
    },
    {
      "cell_type": "code",
      "execution_count": 17,
      "metadata": {},
      "outputs": [
        {
          "name": "stdout",
          "output_type": "stream",
          "text": [
            "Collecting pystemmer\n",
            "  Downloading pystemmer-3.0.0-cp311-cp311-macosx_11_0_arm64.whl.metadata (4.0 kB)\n",
            "Downloading pystemmer-3.0.0-cp311-cp311-macosx_11_0_arm64.whl (240 kB)\n",
            "Installing collected packages: pystemmer\n",
            "Successfully installed pystemmer-3.0.0\n"
          ]
        }
      ],
      "source": [
        "!pip install pystemmer"
      ]
    },
    {
      "cell_type": "code",
      "execution_count": 18,
      "metadata": {},
      "outputs": [
        {
          "name": "stdout",
          "output_type": "stream",
          "text": [
            "i do n't know what dr. goldberg was like befor   move to arizona , but let me tell you , stay away from this doctor and this offic . i was go to dr. johnson befor he left and goldberg took over when johnson left . he is not a care doctor . he is onli interest in the co - pay and have you come in for medic refil everi month . he will not give refil and could less about patient 's financi situat . tri to get your 90 day mail away pharmaci prescript through this guy is a joke . and to make matter even wors , his offic staff is incompet . 90 % of the time when you call the offic , they ll put you through to a voic mail , that no one ever answer or return your call . both my adult children and husband have decid to leav this practic after experienc such frustrat . the entir offic has an attitud like they are do you a favor . give me a break ! stay away from this doc and the practic . you deserv better and they will not be there when you realli need them . i have never felt compel to write a bad review about anyon until i met this pathet excus for a doctor who is all about the money .\n"
          ]
        }
      ],
      "source": [
        "import Stemmer\n",
        "from typing import List\n",
        "\n",
        "def stem(tokens: List[str]) -> List[str]:\n",
        "  \"\"\"Lower-case and stem tokens. \"\"\"\n",
        "\n",
        "  stemmer = Stemmer.Stemmer(\"english\")\n",
        "  tokens = [tok.lower() for tok in tokens]\n",
        "  return stemmer.stemWords(tokens)\n",
        "\n",
        "example_tokens = tokenize(train_data[2][\"text\"])\n",
        "stemmed_tokens = stem(example_tokens)\n"
      ]
    },
    {
      "cell_type": "code",
      "execution_count": 19,
      "metadata": {},
      "outputs": [
        {
          "name": "stdout",
          "output_type": "stream",
          "text": [
            "sing                   =>   sing\n",
            "sings                  =>   sing\n",
            "singing                =>   sing\n",
            "singer                 =>   singer\n",
            "singers                =>   singer\n"
          ]
        }
      ],
      "source": [
        "for word in (\"sing\", \"sings\", \"singing\", \"singer\", \"singers\"):\n",
        "  stemmed = stem([word])[0]\n",
        "  print(f\"{word:<20}   =>   {stemmed}\")"
      ]
    },
    {
      "cell_type": "code",
      "execution_count": 20,
      "metadata": {},
      "outputs": [
        {
          "name": "stderr",
          "output_type": "stream",
          "text": [
            "100%|██████████| 560000/560000 [02:07<00:00, 4384.35it/s]\n"
          ]
        },
        {
          "name": "stdout",
          "output_type": "stream",
          "text": [
            "Original unique tokens: 775,042\n",
            "Stemmed  unique tokens: 619,424\n"
          ]
        }
      ],
      "source": [
        "from tqdm import tqdm\n",
        "\n",
        "all_tokens = []\n",
        "all_tokens_stemmed = []\n",
        "for doc in tqdm(train_data):\n",
        "  doc_tokens = tokenize(doc[\"text\"])\n",
        "  all_tokens += doc_tokens\n",
        "  all_tokens_stemmed += stem(doc_tokens)\n",
        "\n",
        "print(\"Original unique tokens: {:,}\".format(len(set(all_tokens))))\n",
        "print(\"Stemmed  unique tokens: {:,}\".format(len(set(all_tokens_stemmed))))"
      ]
    },
    {
      "cell_type": "code",
      "execution_count": 21,
      "metadata": {},
      "outputs": [
        {
          "data": {
            "text/plain": [
              "['fantastic']"
            ]
          },
          "execution_count": 21,
          "metadata": {},
          "output_type": "execute_result"
        }
      ],
      "source": [
        "# Кастомні стоп-слова, спитав в ChatGPT які краще використати\n",
        "custom_stop_words = [\n",
        "    \"the\", \"a\", \"an\", \"and\", \"in\", \"on\", \"at\", \"with\", \"for\", \"of\", \"by\", \"to\",\n",
        "    \"was\", \"were\", \"be\", \"been\", \"am\", \"is\", \"are\", \"as\", \"from\", \"that\",\n",
        "    \"this\", \"it\", \"you\", \"your\", \"we\", \"they\", \"he\", \"she\", \"my\", \"i\", \"me\",\n",
        "    \"our\", \"us\", \"their\", \"them\", \"just\", \"very\", \"so\", \"if\", \"when\", \"then\"\n",
        "]\n",
        "def remove_stop_words(tokens: List[str]) -> List[str]:\n",
        "  return [token for token in tokens if token not in custom_stop_words]"
      ]
    },
    {
      "cell_type": "code",
      "execution_count": 22,
      "metadata": {},
      "outputs": [
        {
          "data": {
            "text/plain": [
              "['like', '!']"
            ]
          },
          "execution_count": 22,
          "metadata": {},
          "output_type": "execute_result"
        }
      ],
      "source": [
        "def preprocess(text: str) -> List[str]:\n",
        "  tokens = tokenize(text)\n",
        "  tokens = stem(tokens)\n",
        "  tokens = remove_stop_words(tokens)\n",
        "  return tokens\n",
        "\n",
        "preprocess(\"I likes it!\")"
      ]
    },
    {
      "cell_type": "code",
      "execution_count": 50,
      "metadata": {},
      "outputs": [
        {
          "name": "stdout",
          "output_type": "stream",
          "text": [
            "Top 50 most common tokens account for 47.813044% of tokens\n",
            "Top 50 tokens are: [('.', 3981740), ('the', 3688719), (',', 2709943), ('and', 2414839), ('i', 2193956), ('to', 1890266), ('a', 1881330), ('was', 1390129), (' ', 1312895), ('it', 1170696), ('of', 1109769), ('for', 861571), ('in', 858735), ('is', 851720), ('that', 747835), ('!', 689737), ('my', 665550), ('we', 623638), ('you', 597157), ('this', 592531), ('they', 592132), ('but', 572894), ('with', 568984), (\"n't\", 531387), ('on', 528575), ('not', 513399), ('have', 507586), ('had', 444681), (\"'s\", 431858), ('at', 420707), ('were', 419109), ('be', 387217), ('-', 387102), ('so', 383776), ('place', 359534), ('are', 347091), ('food', 329168), ('\"', 328966), ('there', 321754), ('me', 299478), ('good', 298309), ('as', 292552), ('like', 288045), ('get', 285703), ('do', 282144), ('(', 281246), ('go', 272738), ('time', 272656), (')', 269200), ('out', 266307)]\n"
          ]
        },
        {
          "data": {
            "text/plain": [
              "[<matplotlib.lines.Line2D at 0x5205a7290>]"
            ]
          },
          "execution_count": 50,
          "metadata": {},
          "output_type": "execute_result"
        },
        {
          "data": {
            "image/png": "[encoded data removed]",
            "text/plain": [
              "<Figure size 640x480 with 1 Axes>"
            ]
          },
          "metadata": {},
          "output_type": "display_data"
        }
      ],
      "source": [
        "from collections import Counter\n",
        "import matplotlib.pyplot as plt\n",
        "\n",
        "# Корпус вже токенізовано в all_tokens та all_tokens_stemmed\n",
        "assert all_tokens\n",
        "assert all_tokens_stemmed\n",
        "\n",
        "# Злічимо усі токени\n",
        "token_counts = Counter(all_tokens_stemmed)\n",
        "\n",
        "# Подивимося на 50 найчастотніших токенів\n",
        "most_common = token_counts.most_common(50)\n",
        "\n",
        "most_common_count = sum(count for token, count in most_common)\n",
        "all_count = sum(token_counts.values())\n",
        "print(f\"Top {len(most_common)} most common tokens account for {most_common_count / all_count:%} of tokens\")\n",
        "print(f\"Top {len(most_common)} tokens are: {most_common}\")\n",
        "\n",
        "# Розподіл токенів за частотою\n",
        "plt.yscale(\"log\")\n",
        "plt.plot(sorted(token_counts.values(), reverse=True))"
      ]
    },
    {
      "cell_type": "code",
      "execution_count": 51,
      "metadata": {},
      "outputs": [
        {
          "data": {
            "text/plain": [
              "[<matplotlib.lines.Line2D at 0x5223f60d0>]"
            ]
          },
          "execution_count": 51,
          "metadata": {},
          "output_type": "execute_result"
        },
        {
          "data": {
            "image/png": "[encoded data removed]",
            "text/plain": [
              "<Figure size 640x480 with 1 Axes>"
            ]
          },
          "metadata": {},
          "output_type": "display_data"
        }
      ],
      "source": [
        "plt.plot(sorted(token_counts.values(), reverse=True))"
      ]
    },
    {
      "cell_type": "code",
      "execution_count": 52,
      "metadata": {},
      "outputs": [
        {
          "name": "stdout",
          "output_type": "stream",
          "text": [
            "Vocab size before filtering: 619,424\n",
            "Vocab size after filtering: 59,629\n",
            "Final vocab size: 5,000\n"
          ]
        }
      ],
      "source": [
        "VOCAB_SIZE = 5000\n",
        "MIN_COUNT = 5\n",
        "\n",
        "print(f\"Vocab size before filtering: {len(token_counts):,}\")\n",
        "\n",
        "vocab_list = [token for token, count in token_counts.most_common()\n",
        "              if count > MIN_COUNT\n",
        "              and token not in custom_stop_words]\n",
        "\n",
        "print(f\"Vocab size after filtering: {len(vocab_list):,}\")\n",
        "\n",
        "\n",
        "vocab_list = vocab_list[:VOCAB_SIZE]\n",
        "print(f\"Final vocab size: {len(vocab_list):,}\")"
      ]
    },
    {
      "cell_type": "code",
      "execution_count": 53,
      "metadata": {},
      "outputs": [
        {
          "data": {
            "text/plain": [
              "['even',\n",
              " 'more',\n",
              " 'other',\n",
              " 'friend',\n",
              " 'got',\n",
              " 'look',\n",
              " 'could',\n",
              " 'want',\n",
              " 'come',\n",
              " 'after']"
            ]
          },
          "execution_count": 53,
          "metadata": {},
          "output_type": "execute_result"
        }
      ],
      "source": [
        "vocab_list[50:60]"
      ]
    },
    {
      "cell_type": "code",
      "execution_count": 54,
      "metadata": {},
      "outputs": [
        {
          "name": "stdout",
          "output_type": "stream",
          "text": [
            "Index of `dog` is 401\n",
            "Token #42 is `realli`\n"
          ]
        }
      ],
      "source": [
        "class Vocabulary:\n",
        "\n",
        "  def __init__(self, tokens, unk_token=\"<unk>\"):\n",
        "    self.unk_token = unk_token\n",
        "    self.unk_index = 0\n",
        "    self._itos = [unk_token] + tokens\n",
        "    self._stoi = {token: index for index, token in enumerate(self._itos)}\n",
        "\n",
        "  def stoi(self, token: str) -> int:\n",
        "    \"\"\"Return token index or `<unk>` index if `token` is not in the vocab.\n",
        "    \"\"\"\n",
        "    return self._stoi.get(token, self.unk_index)\n",
        "\n",
        "\n",
        "  def itos(self, index: int) -> str:\n",
        "    \"\"\"Return token by its `index`.\n",
        "\n",
        "    Raise LookupError if `index` is out of vocabulary range.\n",
        "    \"\"\"\n",
        "\n",
        "    return self._itos[index]\n",
        "\n",
        "  @property\n",
        "  def tokens(self):\n",
        "    return self._itos\n",
        "\n",
        "  def __len__(self) -> int:\n",
        "    return len(self._itos)\n",
        "\n",
        "\n",
        "vocab = Vocabulary(vocab_list)\n",
        "print(f\"Index of `dog` is {vocab.stoi('dog')}\")\n",
        "print(f\"Token #42 is `{vocab.itos(42)}`\")"
      ]
    },
    {
      "cell_type": "code",
      "execution_count": 55,
      "metadata": {},
      "outputs": [],
      "source": [
        "def one_hot(token: str, vocab: Vocabulary) -> List[int]:\n",
        "    # [0, 0, 0, 1, 0 ,0 ]\n",
        "    result = [0] * len(vocab)\n",
        "    index = vocab.stoi(token)\n",
        "    result[index] = 1\n",
        "    return result"
      ]
    },
    {
      "cell_type": "code",
      "execution_count": 57,
      "metadata": {},
      "outputs": [
        {
          "data": {
            "text/plain": [
              "5001"
            ]
          },
          "execution_count": 57,
          "metadata": {},
          "output_type": "execute_result"
        }
      ],
      "source": [
        "vector_dog = one_hot(\"dog\", vocab)\n",
        "len(vector_dog)"
      ]
    },
    {
      "cell_type": "code",
      "execution_count": 58,
      "metadata": {},
      "outputs": [
        {
          "data": {
            "text/plain": [
              "[0, 0, 0, 0, 0, 0, 0, 0, 0, 0, 0, 0, 0, 0, 0, 0, 0, 0, 0, 0]"
            ]
          },
          "execution_count": 58,
          "metadata": {},
          "output_type": "execute_result"
        }
      ],
      "source": [
        "vector_dog[:20]"
      ]
    },
    {
      "cell_type": "code",
      "execution_count": 59,
      "metadata": {},
      "outputs": [
        {
          "data": {
            "text/plain": [
              "401"
            ]
          },
          "execution_count": 59,
          "metadata": {},
          "output_type": "execute_result"
        }
      ],
      "source": [
        "vector_dog.index(1)"
      ]
    },
    {
      "cell_type": "code",
      "execution_count": 60,
      "metadata": {},
      "outputs": [
        {
          "data": {
            "text/plain": [
              "'profession'"
            ]
          },
          "execution_count": 60,
          "metadata": {},
          "output_type": "execute_result"
        }
      ],
      "source": [
        "vocab.itos(751)"
      ]
    }
  ],
  "metadata": {
    "colab": {
      "include_colab_link": true,
      "provenance": []
    },
    "kernelspec": {
      "display_name": ".venv",
      "language": "python",
      "name": "python3"
    },
    "language_info": {
      "codemirror_mode": {
        "name": "ipython",
        "version": 3
      },
      "file_extension": ".py",
      "mimetype": "text/x-python",
      "name": "python",
      "nbconvert_exporter": "python",
      "pygments_lexer": "ipython3",
      "version": "3.11.12"
    }
  },
  "nbformat": 4,
  "nbformat_minor": 0
}
